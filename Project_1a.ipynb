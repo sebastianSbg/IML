{
  "nbformat": 4,
  "nbformat_minor": 0,
  "metadata": {
    "colab": {
      "name": "Project_1a.ipynb",
      "provenance": [],
      "collapsed_sections": [],
      "authorship_tag": "ABX9TyPL8igu4CD8G6Vm8xeuDAzd",
      "include_colab_link": true
    },
    "kernelspec": {
      "name": "python3",
      "display_name": "Python 3"
    }
  },
  "cells": [
    {
      "cell_type": "markdown",
      "metadata": {
        "id": "view-in-github",
        "colab_type": "text"
      },
      "source": [
        "<a href=\"https://colab.research.google.com/github/sebastianSbg/IML-projects/blob/master/Project_1a.ipynb\" target=\"_parent\"><img src=\"https://colab.research.google.com/assets/colab-badge.svg\" alt=\"Open In Colab\"/></a>"
      ]
    },
    {
      "cell_type": "markdown",
      "metadata": {
        "id": "MTsvYpNyz89r"
      },
      "source": [
        "# Importing libraries, data & mounting drive"
      ]
    },
    {
      "cell_type": "markdown",
      "metadata": {
        "id": "0R-dvrwQ0Pse"
      },
      "source": [
        ""
      ]
    },
    {
      "cell_type": "code",
      "metadata": {
        "id": "z4GrJkPp0Sa9"
      },
      "source": [
        "# Performing ridge regression on a dataset & evaluatings RMSE for each lambda chosen\n",
        "# Created by Sebastian Bommer 2020-05-17\n",
        "# Modified by ___"
      ],
      "execution_count": null,
      "outputs": []
    },
    {
      "cell_type": "markdown",
      "metadata": {
        "id": "MdnrbPhs0l3s"
      },
      "source": [
        "Ridge regression:\n",
        "![image.png](data:image/png;base64,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)\n",
        "\n"
      ]
    },
    {
      "cell_type": "code",
      "metadata": {
        "id": "iJO8az8NkuzA"
      },
      "source": [
        "# importing libraries\n",
        "import pandas as pd\n",
        "import sklearn\n",
        "import numpy as np"
      ],
      "execution_count": null,
      "outputs": []
    },
    {
      "cell_type": "code",
      "metadata": {
        "id": "dY3iGC20c27F",
        "colab": {
          "base_uri": "https://localhost:8080/"
        },
        "outputId": "f2832f5d-6e85-424f-bc2c-293bf1808599"
      },
      "source": [
        "# mounting google drive \n",
        "from google.colab import drive\n",
        "drive.mount('/content/drive')"
      ],
      "execution_count": null,
      "outputs": [
        {
          "output_type": "stream",
          "text": [
            "Mounted at /content/drive\n"
          ],
          "name": "stdout"
        }
      ]
    },
    {
      "cell_type": "code",
      "metadata": {
        "id": "qu7N6z0LkzyT",
        "colab": {
          "base_uri": "https://localhost:8080/"
        },
        "outputId": "398ed93a-f3ff-4ea4-9a5f-d80ea8352f4c"
      },
      "source": [
        "# loading data\n",
        "baseDir = '/content/drive/My Drive/ETHZ/IML/Project_1a/'\n",
        "dir = '/content/drive/My Drive/ETHZ/IML/Project_1a/train.csv'\n",
        "\n",
        "D = pd.read_csv(dir, index_col='Id')\n",
        "print(f'\\n Data: \\n {D}')\n",
        "\n",
        "X_df = D.iloc[:,1:-1]\n",
        "y_df = D.iloc[:,0]\n",
        "\n",
        "X = np.array(X_df)\n",
        "y = np.array(y_df)\n",
        "\n",
        "print(X[0:2,:])\n",
        "print(y[0:5])"
      ],
      "execution_count": null,
      "outputs": [
        {
          "output_type": "stream",
          "text": [
            "\n",
            " Data: \n",
            "         y        x1    x2     x3   x4  ...    x9    x10   x11     x12    x13\n",
            "Id                                     ...                                  \n",
            "0    22.6   0.06724   0.0   3.24  0.0  ...   4.0  430.0  16.9  375.21   7.34\n",
            "1    50.0   9.23230   0.0  18.10  0.0  ...  24.0  666.0  20.2  366.15   9.53\n",
            "2    23.0   0.11425   0.0  13.89  1.0  ...   5.0  276.0  16.4  393.74  10.50\n",
            "3     8.3  24.80170   0.0  18.10  0.0  ...  24.0  666.0  20.2  396.90  19.77\n",
            "4    21.2   0.05646   0.0  12.83  0.0  ...   5.0  398.0  18.7  386.40  12.34\n",
            "..    ...       ...   ...    ...  ...  ...   ...    ...   ...     ...    ...\n",
            "501  18.5   0.28392   0.0   7.38  0.0  ...   5.0  287.0  19.6  391.13  11.74\n",
            "502  36.4   0.08664  45.0   3.44  0.0  ...   5.0  398.0  15.2  390.49   2.87\n",
            "503  19.2   0.15098   0.0  10.01  0.0  ...   6.0  432.0  17.8  394.51  10.30\n",
            "504  16.6   0.22927   0.0   6.91  0.0  ...   3.0  233.0  17.9  392.74  18.80\n",
            "505  23.1   0.13914   0.0   4.05  0.0  ...   5.0  296.0  16.6  396.90  14.69\n",
            "\n",
            "[506 rows x 14 columns]\n",
            "[[6.7240e-02 0.0000e+00 3.2400e+00 0.0000e+00 4.6000e-01 6.3330e+00\n",
            "  1.7200e+01 5.2146e+00 4.0000e+00 4.3000e+02 1.6900e+01 3.7521e+02]\n",
            " [9.2323e+00 0.0000e+00 1.8100e+01 0.0000e+00 6.3100e-01 6.2160e+00\n",
            "  1.0000e+02 1.1691e+00 2.4000e+01 6.6600e+02 2.0200e+01 3.6615e+02]]\n",
            "[22.6 50.  23.   8.3 21.2]\n"
          ],
          "name": "stdout"
        }
      ]
    },
    {
      "cell_type": "markdown",
      "metadata": {
        "id": "D_mAarVLquD-"
      },
      "source": [
        "# Creating k-fold split"
      ]
    },
    {
      "cell_type": "code",
      "metadata": {
        "id": "Ip1-H7XTq3Ah"
      },
      "source": [
        "from sklearn.model_selection import KFold\n",
        "\n",
        "# hyper parameter\n",
        "n_fold = 10\n",
        "\n",
        "kf = KFold(n_fold, shuffle=False)\n",
        "\n",
        "ind = np.arange(y.shape[0])\n",
        "\n",
        "ind_splits = list(kf.split(ind))"
      ],
      "execution_count": null,
      "outputs": []
    },
    {
      "cell_type": "code",
      "metadata": {
        "id": "JXHNiwHlCZTd",
        "colab": {
          "base_uri": "https://localhost:8080/"
        },
        "outputId": "be689e1c-ccb7-4ab7-8ae6-97f1317e2087"
      },
      "source": [
        "X[ind_splits[0][0],:]"
      ],
      "execution_count": null,
      "outputs": [
        {
          "output_type": "execute_result",
          "data": {
            "text/plain": [
              "array([[1.7899e-01, 0.0000e+00, 9.6900e+00, ..., 3.9100e+02, 1.9200e+01,\n",
              "        3.9329e+02],\n",
              "       [5.3700e-01, 0.0000e+00, 6.2000e+00, ..., 3.0700e+02, 1.7400e+01,\n",
              "        3.7835e+02],\n",
              "       [3.6894e-01, 2.2000e+01, 5.8600e+00, ..., 3.3000e+02, 1.9100e+01,\n",
              "        3.9690e+02],\n",
              "       ...,\n",
              "       [1.5098e-01, 0.0000e+00, 1.0010e+01, ..., 4.3200e+02, 1.7800e+01,\n",
              "        3.9451e+02],\n",
              "       [2.2927e-01, 0.0000e+00, 6.9100e+00, ..., 2.3300e+02, 1.7900e+01,\n",
              "        3.9274e+02],\n",
              "       [1.3914e-01, 0.0000e+00, 4.0500e+00, ..., 2.9600e+02, 1.6600e+01,\n",
              "        3.9690e+02]])"
            ]
          },
          "metadata": {
            "tags": []
          },
          "execution_count": 6
        }
      ]
    },
    {
      "cell_type": "markdown",
      "metadata": {
        "id": "0IDhYJZEqnuP"
      },
      "source": [
        "# Train ridge regression"
      ]
    },
    {
      "cell_type": "code",
      "metadata": {
        "id": "vo8UCcugop0x",
        "colab": {
          "base_uri": "https://localhost:8080/"
        },
        "outputId": "28251388-cb29-4325-8a04-9be8a4779bec"
      },
      "source": [
        "from sklearn.linear_model import Ridge\n",
        "from sklearn.metrics import mean_squared_error\n",
        "\n",
        "lam = [0.01, 0.1, 1, 10, 100]\n",
        "\n",
        "errors = []\n",
        "for alph in lam:\n",
        "\n",
        "  clf = Ridge(alpha=alph,solver='cholesky')\n",
        "\n",
        "  errorVec = []\n",
        "  for i in range(len(ind_splits)):\n",
        "    print(f'Training on {i} fold and lambda {alph}')\n",
        "    model = clf.fit(X[ind_splits[i][0],:], y[ind_splits[i][0]])\n",
        "    y_pred = model.predict(X[ind_splits[i][1],:])\n",
        "\n",
        "    errorVec.append(np.sqrt(mean_squared_error(y_pred, y[ind_splits[i][1]])))\n",
        "  errors.append(np.mean(errorVec))\n",
        "\n",
        "print(f'The mean RMS errors are: {errors}')\n",
        "    \n",
        "#     # calculating the distance between actual & predicted y values\n",
        "#     dist = np.array(y_pred - y[ind_splits[i][1]])    \n",
        "#     dist_vec.append(np.dot(dist,dist))\n",
        "\n",
        "#   print(dist_vec)\n",
        "#   errors.append(np.sqrt(np.mean(dist_vec)))\n",
        "  \n",
        "# print(f'\\nThe RMSE error is: {errors}')"
      ],
      "execution_count": null,
      "outputs": [
        {
          "output_type": "stream",
          "text": [
            "Training on 0 fold and lambda 0.01\n",
            "Training on 1 fold and lambda 0.01\n",
            "Training on 2 fold and lambda 0.01\n",
            "Training on 3 fold and lambda 0.01\n",
            "Training on 4 fold and lambda 0.01\n",
            "Training on 5 fold and lambda 0.01\n",
            "Training on 6 fold and lambda 0.01\n",
            "Training on 7 fold and lambda 0.01\n",
            "Training on 8 fold and lambda 0.01\n",
            "Training on 9 fold and lambda 0.01\n",
            "Training on 0 fold and lambda 0.1\n",
            "Training on 1 fold and lambda 0.1\n",
            "Training on 2 fold and lambda 0.1\n",
            "Training on 3 fold and lambda 0.1\n",
            "Training on 4 fold and lambda 0.1\n",
            "Training on 5 fold and lambda 0.1\n",
            "Training on 6 fold and lambda 0.1\n",
            "Training on 7 fold and lambda 0.1\n",
            "Training on 8 fold and lambda 0.1\n",
            "Training on 9 fold and lambda 0.1\n",
            "Training on 0 fold and lambda 1\n",
            "Training on 1 fold and lambda 1\n",
            "Training on 2 fold and lambda 1\n",
            "Training on 3 fold and lambda 1\n",
            "Training on 4 fold and lambda 1\n",
            "Training on 5 fold and lambda 1\n",
            "Training on 6 fold and lambda 1\n",
            "Training on 7 fold and lambda 1\n",
            "Training on 8 fold and lambda 1\n",
            "Training on 9 fold and lambda 1\n",
            "Training on 0 fold and lambda 10\n",
            "Training on 1 fold and lambda 10\n",
            "Training on 2 fold and lambda 10\n",
            "Training on 3 fold and lambda 10\n",
            "Training on 4 fold and lambda 10\n",
            "Training on 5 fold and lambda 10\n",
            "Training on 6 fold and lambda 10\n",
            "Training on 7 fold and lambda 10\n",
            "Training on 8 fold and lambda 10\n",
            "Training on 9 fold and lambda 10\n",
            "Training on 0 fold and lambda 100\n",
            "Training on 1 fold and lambda 100\n",
            "Training on 2 fold and lambda 100\n",
            "Training on 3 fold and lambda 100\n",
            "Training on 4 fold and lambda 100\n",
            "Training on 5 fold and lambda 100\n",
            "Training on 6 fold and lambda 100\n",
            "Training on 7 fold and lambda 100\n",
            "Training on 8 fold and lambda 100\n",
            "Training on 9 fold and lambda 100\n",
            "The mean RMS errors are: [5.198115191789432, 5.1960760281570995, 5.202389186648223, 5.260886453216047, 5.501556209064859]\n"
          ],
          "name": "stdout"
        }
      ]
    },
    {
      "cell_type": "markdown",
      "metadata": {
        "id": "SZU9P5RVyube"
      },
      "source": [
        "# Exporting to csv"
      ]
    },
    {
      "cell_type": "code",
      "metadata": {
        "id": "Cr2LaYOCuJYo"
      },
      "source": [
        "errors_df = pd.DataFrame(errors)\n",
        "filePath = '/content/drive/My Drive/ETHZ/IML/Project_1a/' + 'rmse.csv'\n",
        "errors_df.to_csv(filePath, index=False, float_format='%.3f',header=False)"
      ],
      "execution_count": null,
      "outputs": []
    },
    {
      "cell_type": "code",
      "metadata": {
        "id": "DTCIhTnqzLqi",
        "colab": {
          "base_uri": "https://localhost:8080/",
          "height": 204
        },
        "outputId": "867b1575-f374-4b7c-d390-82f607a0ab87"
      },
      "source": [
        "errors_df"
      ],
      "execution_count": null,
      "outputs": [
        {
          "output_type": "execute_result",
          "data": {
            "text/html": [
              "<div>\n",
              "<style scoped>\n",
              "    .dataframe tbody tr th:only-of-type {\n",
              "        vertical-align: middle;\n",
              "    }\n",
              "\n",
              "    .dataframe tbody tr th {\n",
              "        vertical-align: top;\n",
              "    }\n",
              "\n",
              "    .dataframe thead th {\n",
              "        text-align: right;\n",
              "    }\n",
              "</style>\n",
              "<table border=\"1\" class=\"dataframe\">\n",
              "  <thead>\n",
              "    <tr style=\"text-align: right;\">\n",
              "      <th></th>\n",
              "      <th>0</th>\n",
              "    </tr>\n",
              "  </thead>\n",
              "  <tbody>\n",
              "    <tr>\n",
              "      <th>0</th>\n",
              "      <td>5.198115</td>\n",
              "    </tr>\n",
              "    <tr>\n",
              "      <th>1</th>\n",
              "      <td>5.196076</td>\n",
              "    </tr>\n",
              "    <tr>\n",
              "      <th>2</th>\n",
              "      <td>5.202389</td>\n",
              "    </tr>\n",
              "    <tr>\n",
              "      <th>3</th>\n",
              "      <td>5.260886</td>\n",
              "    </tr>\n",
              "    <tr>\n",
              "      <th>4</th>\n",
              "      <td>5.501556</td>\n",
              "    </tr>\n",
              "  </tbody>\n",
              "</table>\n",
              "</div>"
            ],
            "text/plain": [
              "          0\n",
              "0  5.198115\n",
              "1  5.196076\n",
              "2  5.202389\n",
              "3  5.260886\n",
              "4  5.501556"
            ]
          },
          "metadata": {
            "tags": []
          },
          "execution_count": 169
        }
      ]
    },
    {
      "cell_type": "code",
      "metadata": {
        "id": "euGSBmlhGL0n"
      },
      "source": [
        ""
      ],
      "execution_count": null,
      "outputs": []
    }
  ]
}