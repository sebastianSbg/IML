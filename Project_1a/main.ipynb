{
  "nbformat": 4,
  "nbformat_minor": 0,
  "metadata": {
    "colab": {
      "name": "Project_1a.ipynb",
      "provenance": [],
      "collapsed_sections": [],
      "toc_visible": true,
      "authorship_tag": "ABX9TyPCzdxPn/+2c0G4Lo94mIra",
      "include_colab_link": true
    },
    "kernelspec": {
      "name": "python3",
      "display_name": "Python 3"
    }
  },
  "cells": [
    {
      "cell_type": "markdown",
      "metadata": {
        "id": "view-in-github",
        "colab_type": "text"
      },
      "source": [
        "<a href=\"https://colab.research.google.com/github/sebastianSbg/IML-projects/blob/master/Project_1/main.ipynb\" target=\"_parent\"><img src=\"https://colab.research.google.com/assets/colab-badge.svg\" alt=\"Open In Colab\"/></a>"
      ]
    },
    {
      "cell_type": "markdown",
      "metadata": {
        "id": "0R-dvrwQ0Pse"
      },
      "source": [
        "# Evaluating RSME of ridge regression with different penalties"
      ]
    },
    {
      "cell_type": "code",
      "metadata": {
        "id": "z4GrJkPp0Sa9"
      },
      "source": [
        "# Performing ridge regression on a dataset & evaluatings RMSE for each lambda chosen\n",
        "# Created by Sebastian Bommer 2020-05-17\n",
        "# Modified by Sebastian Bommer 2021-03-09"
      ],
      "execution_count": 1,
      "outputs": []
    },
    {
      "cell_type": "markdown",
      "metadata": {
        "id": "Onuw6wi0tW9g"
      },
      "source": [
        "## defining libraries and mounting drive"
      ]
    },
    {
      "cell_type": "code",
      "metadata": {
        "id": "iJO8az8NkuzA"
      },
      "source": [
        "# importing libraries\n",
        "import pandas as pd\n",
        "import sklearn\n",
        "import numpy as np"
      ],
      "execution_count": 8,
      "outputs": []
    },
    {
      "cell_type": "code",
      "metadata": {
        "id": "dY3iGC20c27F",
        "colab": {
          "base_uri": "https://localhost:8080/"
        },
        "outputId": "72c04a4f-7442-4da3-d527-646bc40372be"
      },
      "source": [
        "# mounting google drive \n",
        "from google.colab import drive\n",
        "drive.mount('/content/drive')"
      ],
      "execution_count": 9,
      "outputs": [
        {
          "output_type": "stream",
          "text": [
            "Drive already mounted at /content/drive; to attempt to forcibly remount, call drive.mount(\"/content/drive\", force_remount=True).\n"
          ],
          "name": "stdout"
        }
      ]
    },
    {
      "cell_type": "markdown",
      "metadata": {
        "id": "AabapFuisxXH"
      },
      "source": [
        "## Reading in data"
      ]
    },
    {
      "cell_type": "code",
      "metadata": {
        "id": "qu7N6z0LkzyT",
        "colab": {
          "base_uri": "https://localhost:8080/",
          "height": 191
        },
        "outputId": "12681831-6749-4dba-a831-fb6fbeb1eceb"
      },
      "source": [
        "# loading data - CHANGE TO YOUR BASE DIRECTORY\n",
        "dir = '/content/drive/MyDrive/Colab Notebooks/IML/Project1_a/data/train.csv'\n",
        "\n",
        "D = pd.read_csv(dir)\n",
        "\n",
        "X_df = D.iloc[:,1:-1]\n",
        "y_df = D.iloc[:,0]\n",
        "\n",
        "X = np.array(X_df)\n",
        "y = np.array(y_df)\n",
        "\n",
        "D.head()"
      ],
      "execution_count": 10,
      "outputs": [
        {
          "output_type": "execute_result",
          "data": {
            "text/html": [
              "<div>\n",
              "<style scoped>\n",
              "    .dataframe tbody tr th:only-of-type {\n",
              "        vertical-align: middle;\n",
              "    }\n",
              "\n",
              "    .dataframe tbody tr th {\n",
              "        vertical-align: top;\n",
              "    }\n",
              "\n",
              "    .dataframe thead th {\n",
              "        text-align: right;\n",
              "    }\n",
              "</style>\n",
              "<table border=\"1\" class=\"dataframe\">\n",
              "  <thead>\n",
              "    <tr style=\"text-align: right;\">\n",
              "      <th></th>\n",
              "      <th>y</th>\n",
              "      <th>x1</th>\n",
              "      <th>x2</th>\n",
              "      <th>x3</th>\n",
              "      <th>x4</th>\n",
              "      <th>x5</th>\n",
              "      <th>x6</th>\n",
              "      <th>x7</th>\n",
              "      <th>x8</th>\n",
              "      <th>x9</th>\n",
              "      <th>x10</th>\n",
              "      <th>x11</th>\n",
              "      <th>x12</th>\n",
              "      <th>x13</th>\n",
              "    </tr>\n",
              "  </thead>\n",
              "  <tbody>\n",
              "    <tr>\n",
              "      <th>0</th>\n",
              "      <td>22.6</td>\n",
              "      <td>0.06724</td>\n",
              "      <td>0.0</td>\n",
              "      <td>3.24</td>\n",
              "      <td>0.0</td>\n",
              "      <td>0.460</td>\n",
              "      <td>6.333</td>\n",
              "      <td>17.2</td>\n",
              "      <td>5.2146</td>\n",
              "      <td>4.0</td>\n",
              "      <td>430.0</td>\n",
              "      <td>16.9</td>\n",
              "      <td>375.21</td>\n",
              "      <td>7.34</td>\n",
              "    </tr>\n",
              "    <tr>\n",
              "      <th>1</th>\n",
              "      <td>50.0</td>\n",
              "      <td>9.23230</td>\n",
              "      <td>0.0</td>\n",
              "      <td>18.10</td>\n",
              "      <td>0.0</td>\n",
              "      <td>0.631</td>\n",
              "      <td>6.216</td>\n",
              "      <td>100.0</td>\n",
              "      <td>1.1691</td>\n",
              "      <td>24.0</td>\n",
              "      <td>666.0</td>\n",
              "      <td>20.2</td>\n",
              "      <td>366.15</td>\n",
              "      <td>9.53</td>\n",
              "    </tr>\n",
              "    <tr>\n",
              "      <th>2</th>\n",
              "      <td>23.0</td>\n",
              "      <td>0.11425</td>\n",
              "      <td>0.0</td>\n",
              "      <td>13.89</td>\n",
              "      <td>1.0</td>\n",
              "      <td>0.550</td>\n",
              "      <td>6.373</td>\n",
              "      <td>92.4</td>\n",
              "      <td>3.3633</td>\n",
              "      <td>5.0</td>\n",
              "      <td>276.0</td>\n",
              "      <td>16.4</td>\n",
              "      <td>393.74</td>\n",
              "      <td>10.50</td>\n",
              "    </tr>\n",
              "    <tr>\n",
              "      <th>3</th>\n",
              "      <td>8.3</td>\n",
              "      <td>24.80170</td>\n",
              "      <td>0.0</td>\n",
              "      <td>18.10</td>\n",
              "      <td>0.0</td>\n",
              "      <td>0.693</td>\n",
              "      <td>5.349</td>\n",
              "      <td>96.0</td>\n",
              "      <td>1.7028</td>\n",
              "      <td>24.0</td>\n",
              "      <td>666.0</td>\n",
              "      <td>20.2</td>\n",
              "      <td>396.90</td>\n",
              "      <td>19.77</td>\n",
              "    </tr>\n",
              "    <tr>\n",
              "      <th>4</th>\n",
              "      <td>21.2</td>\n",
              "      <td>0.05646</td>\n",
              "      <td>0.0</td>\n",
              "      <td>12.83</td>\n",
              "      <td>0.0</td>\n",
              "      <td>0.437</td>\n",
              "      <td>6.232</td>\n",
              "      <td>53.7</td>\n",
              "      <td>5.0141</td>\n",
              "      <td>5.0</td>\n",
              "      <td>398.0</td>\n",
              "      <td>18.7</td>\n",
              "      <td>386.40</td>\n",
              "      <td>12.34</td>\n",
              "    </tr>\n",
              "  </tbody>\n",
              "</table>\n",
              "</div>"
            ],
            "text/plain": [
              "      y        x1   x2     x3   x4  ...    x9    x10   x11     x12    x13\n",
              "0  22.6   0.06724  0.0   3.24  0.0  ...   4.0  430.0  16.9  375.21   7.34\n",
              "1  50.0   9.23230  0.0  18.10  0.0  ...  24.0  666.0  20.2  366.15   9.53\n",
              "2  23.0   0.11425  0.0  13.89  1.0  ...   5.0  276.0  16.4  393.74  10.50\n",
              "3   8.3  24.80170  0.0  18.10  0.0  ...  24.0  666.0  20.2  396.90  19.77\n",
              "4  21.2   0.05646  0.0  12.83  0.0  ...   5.0  398.0  18.7  386.40  12.34\n",
              "\n",
              "[5 rows x 14 columns]"
            ]
          },
          "metadata": {
            "tags": []
          },
          "execution_count": 10
        }
      ]
    },
    {
      "cell_type": "markdown",
      "metadata": {
        "id": "D_mAarVLquD-"
      },
      "source": [
        "# Creating k-fold split"
      ]
    },
    {
      "cell_type": "code",
      "metadata": {
        "id": "Ip1-H7XTq3Ah"
      },
      "source": [
        "from sklearn.model_selection import KFold\n",
        "\n",
        "# hyper parameter\n",
        "n_fold = 10\n",
        "\n",
        "kf = KFold(n_fold, shuffle=False)\n",
        "\n",
        "ind = np.arange(y.shape[0])\n",
        "\n",
        "ind_splits = list(kf.split(ind))"
      ],
      "execution_count": 11,
      "outputs": []
    },
    {
      "cell_type": "code",
      "metadata": {
        "id": "JXHNiwHlCZTd",
        "colab": {
          "base_uri": "https://localhost:8080/"
        },
        "outputId": "eb0d0b67-c22c-40c2-eda8-6b4027890de5"
      },
      "source": [
        "X[ind_splits[0][0],:]"
      ],
      "execution_count": 12,
      "outputs": [
        {
          "output_type": "execute_result",
          "data": {
            "text/plain": [
              "array([[5.56100e-02, 7.00000e+01, 2.24000e+00, ..., 3.58000e+02,\n",
              "        1.48000e+01, 3.71580e+02],\n",
              "       [5.82401e+00, 0.00000e+00, 1.81000e+01, ..., 6.66000e+02,\n",
              "        2.02000e+01, 3.96900e+02],\n",
              "       [4.01100e-02, 8.00000e+01, 1.52000e+00, ..., 3.29000e+02,\n",
              "        1.26000e+01, 3.96900e+02],\n",
              "       ...,\n",
              "       [6.90500e-02, 0.00000e+00, 2.18000e+00, ..., 2.22000e+02,\n",
              "        1.87000e+01, 3.96900e+02],\n",
              "       [7.36711e+00, 0.00000e+00, 1.81000e+01, ..., 6.66000e+02,\n",
              "        2.02000e+01, 9.67300e+01],\n",
              "       [1.68118e+01, 0.00000e+00, 1.81000e+01, ..., 6.66000e+02,\n",
              "        2.02000e+01, 3.96900e+02]])"
            ]
          },
          "metadata": {
            "tags": []
          },
          "execution_count": 12
        }
      ]
    },
    {
      "cell_type": "markdown",
      "metadata": {
        "id": "0IDhYJZEqnuP"
      },
      "source": [
        "# Train ridge regression"
      ]
    },
    {
      "cell_type": "markdown",
      "metadata": {
        "id": "MdnrbPhs0l3s"
      },
      "source": [
        "![image.png](data:image/png;base64,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)\n",
        "\n"
      ]
    },
    {
      "cell_type": "code",
      "metadata": {
        "id": "vo8UCcugop0x",
        "colab": {
          "base_uri": "https://localhost:8080/"
        },
        "outputId": "c577292c-6001-4ed5-8c0c-f3ac99c0185a"
      },
      "source": [
        "from sklearn.linear_model import Ridge\n",
        "from sklearn.metrics import mean_squared_error\n",
        "\n",
        "lam = [0.1, 1, 10, 100, 200]\n",
        "\n",
        "errors = []\n",
        "for alph in lam:\n",
        "\n",
        "  clf = Ridge(alpha=alph,solver='cholesky')\n",
        "\n",
        "  errorVec = []\n",
        "  for i in range(len(ind_splits)):\n",
        "    print(f'Training on {i} fold and lambda {alph}')\n",
        "    model = clf.fit(X[ind_splits[i][0],:], y[ind_splits[i][0]])\n",
        "    y_pred = model.predict(X[ind_splits[i][1],:])\n",
        "\n",
        "    errorVec.append(np.sqrt(mean_squared_error(y_pred, y[ind_splits[i][1]])))\n",
        "  errors.append(np.mean(errorVec))\n",
        "\n",
        "print(f'The mean RMS errors are: {errors}')\n",
        "    \n",
        "#     # calculating the distance between actual & predicted y values\n",
        "#     dist = np.array(y_pred - y[ind_splits[i][1]])    \n",
        "#     dist_vec.append(np.dot(dist,dist))\n",
        "\n",
        "#   print(dist_vec)\n",
        "#   errors.append(np.sqrt(np.mean(dist_vec)))\n",
        "  \n",
        "# print(f'\\nThe RMSE error is: {errors}')"
      ],
      "execution_count": 13,
      "outputs": [
        {
          "output_type": "stream",
          "text": [
            "Training on 0 fold and lambda 0.01\n",
            "Training on 1 fold and lambda 0.01\n",
            "Training on 2 fold and lambda 0.01\n",
            "Training on 3 fold and lambda 0.01\n",
            "Training on 4 fold and lambda 0.01\n",
            "Training on 5 fold and lambda 0.01\n",
            "Training on 6 fold and lambda 0.01\n",
            "Training on 7 fold and lambda 0.01\n",
            "Training on 8 fold and lambda 0.01\n",
            "Training on 9 fold and lambda 0.01\n",
            "Training on 0 fold and lambda 0.1\n",
            "Training on 1 fold and lambda 0.1\n",
            "Training on 2 fold and lambda 0.1\n",
            "Training on 3 fold and lambda 0.1\n",
            "Training on 4 fold and lambda 0.1\n",
            "Training on 5 fold and lambda 0.1\n",
            "Training on 6 fold and lambda 0.1\n",
            "Training on 7 fold and lambda 0.1\n",
            "Training on 8 fold and lambda 0.1\n",
            "Training on 9 fold and lambda 0.1\n",
            "Training on 0 fold and lambda 1\n",
            "Training on 1 fold and lambda 1\n",
            "Training on 2 fold and lambda 1\n",
            "Training on 3 fold and lambda 1\n",
            "Training on 4 fold and lambda 1\n",
            "Training on 5 fold and lambda 1\n",
            "Training on 6 fold and lambda 1\n",
            "Training on 7 fold and lambda 1\n",
            "Training on 8 fold and lambda 1\n",
            "Training on 9 fold and lambda 1\n",
            "Training on 0 fold and lambda 10\n",
            "Training on 1 fold and lambda 10\n",
            "Training on 2 fold and lambda 10\n",
            "Training on 3 fold and lambda 10\n",
            "Training on 4 fold and lambda 10\n",
            "Training on 5 fold and lambda 10\n",
            "Training on 6 fold and lambda 10\n",
            "Training on 7 fold and lambda 10\n",
            "Training on 8 fold and lambda 10\n",
            "Training on 9 fold and lambda 10\n",
            "Training on 0 fold and lambda 100\n",
            "Training on 1 fold and lambda 100\n",
            "Training on 2 fold and lambda 100\n",
            "Training on 3 fold and lambda 100\n",
            "Training on 4 fold and lambda 100\n",
            "Training on 5 fold and lambda 100\n",
            "Training on 6 fold and lambda 100\n",
            "Training on 7 fold and lambda 100\n",
            "Training on 8 fold and lambda 100\n",
            "Training on 9 fold and lambda 100\n",
            "The mean RMS errors are: [6.122894799291102, 6.120550988477168, 6.178451575378047, 6.235983893843153, 6.788415134917523]\n"
          ],
          "name": "stdout"
        }
      ]
    },
    {
      "cell_type": "markdown",
      "metadata": {
        "id": "SZU9P5RVyube"
      },
      "source": [
        "# Exporting to csv"
      ]
    },
    {
      "cell_type": "code",
      "metadata": {
        "id": "Cr2LaYOCuJYo"
      },
      "source": [
        "errors_df = pd.DataFrame(errors)\n",
        "filePath = '/content/drive/MyDrive/Colab Notebooks/IML/Project1_a/results' + '/rmse_' + str(int(time.time())) +  '.csv'\n",
        "errors_df.to_csv(filePath, index=False, float_format='%.3f',header=False)"
      ],
      "execution_count": 25,
      "outputs": []
    },
    {
      "cell_type": "code",
      "metadata": {
        "id": "DTCIhTnqzLqi",
        "colab": {
          "base_uri": "https://localhost:8080/",
          "height": 191
        },
        "outputId": "0ba4bcc2-8e80-4750-800d-259e5b0d134f"
      },
      "source": [
        "errors_df"
      ],
      "execution_count": 17,
      "outputs": [
        {
          "output_type": "execute_result",
          "data": {
            "text/html": [
              "<div>\n",
              "<style scoped>\n",
              "    .dataframe tbody tr th:only-of-type {\n",
              "        vertical-align: middle;\n",
              "    }\n",
              "\n",
              "    .dataframe tbody tr th {\n",
              "        vertical-align: top;\n",
              "    }\n",
              "\n",
              "    .dataframe thead th {\n",
              "        text-align: right;\n",
              "    }\n",
              "</style>\n",
              "<table border=\"1\" class=\"dataframe\">\n",
              "  <thead>\n",
              "    <tr style=\"text-align: right;\">\n",
              "      <th></th>\n",
              "      <th>0</th>\n",
              "    </tr>\n",
              "  </thead>\n",
              "  <tbody>\n",
              "    <tr>\n",
              "      <th>0</th>\n",
              "      <td>6.122895</td>\n",
              "    </tr>\n",
              "    <tr>\n",
              "      <th>1</th>\n",
              "      <td>6.120551</td>\n",
              "    </tr>\n",
              "    <tr>\n",
              "      <th>2</th>\n",
              "      <td>6.178452</td>\n",
              "    </tr>\n",
              "    <tr>\n",
              "      <th>3</th>\n",
              "      <td>6.235984</td>\n",
              "    </tr>\n",
              "    <tr>\n",
              "      <th>4</th>\n",
              "      <td>6.788415</td>\n",
              "    </tr>\n",
              "  </tbody>\n",
              "</table>\n",
              "</div>"
            ],
            "text/plain": [
              "          0\n",
              "0  6.122895\n",
              "1  6.120551\n",
              "2  6.178452\n",
              "3  6.235984\n",
              "4  6.788415"
            ]
          },
          "metadata": {
            "tags": []
          },
          "execution_count": 17
        }
      ]
    }
  ]
}