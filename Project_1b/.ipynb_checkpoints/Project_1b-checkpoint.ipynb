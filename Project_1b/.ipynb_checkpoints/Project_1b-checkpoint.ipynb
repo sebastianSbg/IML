{
 "cells": [
  {
   "cell_type": "markdown",
   "metadata": {
    "id": "MTsvYpNyz89r"
   },
   "source": [
    "# Importing libraries, data & mounting drive"
   ]
  },
  {
   "cell_type": "code",
   "execution_count": 1,
   "metadata": {
    "id": "z4GrJkPp0Sa9"
   },
   "outputs": [],
   "source": [
    "# Performing linear regression on a dataset with transformed features\n",
    "# Created by Sebastian Bommer 2020-05-17\n",
    "# Modified by Sebastian Bommer 2021-03-28"
   ]
  },
  {
   "cell_type": "markdown",
   "metadata": {
    "id": "MdnrbPhs0l3s"
   },
   "source": [
    "Ridge regression:\n",
    "![image.png](data:image/png;base64,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)\n",
    "\n"
   ]
  },
  {
   "cell_type": "code",
   "execution_count": 2,
   "metadata": {
    "id": "iJO8az8NkuzA"
   },
   "outputs": [],
   "source": [
    "# importing libraries\n",
    "import pandas as pd\n",
    "import sklearn\n",
    "import numpy as np"
   ]
  },
  {
   "cell_type": "code",
   "execution_count": 3,
   "metadata": {
    "colab": {
     "base_uri": "https://localhost:8080/",
     "height": 34
    },
    "executionInfo": {
     "elapsed": 1379,
     "status": "ok",
     "timestamp": 1589772056656,
     "user": {
      "displayName": "Sebastian B.",
      "photoUrl": "",
      "userId": "12274578952722913819"
     },
     "user_tz": 420
    },
    "id": "dY3iGC20c27F",
    "outputId": "a2855597-93a4-4c93-da9f-015b47b18fb1"
   },
   "outputs": [],
   "source": [
    "# # mounting google drive for use with google collab\n",
    "# from google.colab import drive\n",
    "# drive.mount('/content/drive')"
   ]
  },
  {
   "cell_type": "code",
   "execution_count": 4,
   "metadata": {
    "colab": {
     "base_uri": "https://localhost:8080/",
     "height": 340
    },
    "executionInfo": {
     "elapsed": 1286,
     "status": "ok",
     "timestamp": 1589772059191,
     "user": {
      "displayName": "Sebastian B.",
      "photoUrl": "",
      "userId": "12274578952722913819"
     },
     "user_tz": 420
    },
    "id": "qu7N6z0LkzyT",
    "outputId": "2e1cd8f2-c744-4cf4-c1d1-aa17ee670990"
   },
   "outputs": [
    {
     "name": "stdout",
     "output_type": "stream",
     "text": [
      "\n",
      " Data: \n",
      "             y    x1    x2    x3    x4    x5\n",
      "Id                                         \n",
      "0   -6.822679  0.02  0.05 -0.09 -0.43 -0.08\n",
      "1   -6.326290 -0.13  0.11 -0.08 -0.29 -0.03\n",
      "2   -9.302728  0.08  0.06 -0.07 -0.41 -0.03\n",
      "3   -7.371893  0.02 -0.12  0.01 -0.43 -0.02\n",
      "4   -6.027647 -0.14 -0.12 -0.08 -0.02 -0.08\n",
      "..        ...   ...   ...   ...   ...   ...\n",
      "695 -6.147394  0.31 -0.09  0.04 -0.09  0.03\n",
      "696 -6.214899 -0.26 -0.01  0.02 -0.40  0.05\n",
      "697 -6.841341 -0.27 -0.22 -0.01 -0.32 -0.05\n",
      "698 -6.523371  0.19  0.11 -0.05 -0.27 -0.04\n",
      "699 -5.676683 -0.09 -0.09 -0.06 -0.41 -0.06\n",
      "\n",
      "[700 rows x 6 columns]\n"
     ]
    }
   ],
   "source": [
    "# loading data\n",
    "path = r'.\\data\\train.csv'\n",
    "\n",
    "D = pd.read_csv(path, index_col='Id')\n",
    "print(f'\\n Data: \\n {D}')\n",
    "\n",
    "X_df = D.iloc[:,1::]\n",
    "y_df = D.iloc[:,0]\n",
    "\n",
    "X = np.array(X_df)\n",
    "y = np.array(y_df)"
   ]
  },
  {
   "cell_type": "markdown",
   "metadata": {
    "id": "TydYBxEflvrp"
   },
   "source": [
    "# Extending X with feature transformation"
   ]
  },
  {
   "cell_type": "code",
   "execution_count": 5,
   "metadata": {
    "colab": {
     "base_uri": "https://localhost:8080/",
     "height": 450
    },
    "executionInfo": {
     "elapsed": 1262,
     "status": "ok",
     "timestamp": 1589772063266,
     "user": {
      "displayName": "Sebastian B.",
      "photoUrl": "",
      "userId": "12274578952722913819"
     },
     "user_tz": 420
    },
    "id": "XGMRCFxEkTpK",
    "outputId": "7cd0dd9c-bd62-4d43-fdd3-e21d35e96cf2"
   },
   "outputs": [
    {
     "data": {
      "text/html": [
       "<div>\n",
       "<style scoped>\n",
       "    .dataframe tbody tr th:only-of-type {\n",
       "        vertical-align: middle;\n",
       "    }\n",
       "\n",
       "    .dataframe tbody tr th {\n",
       "        vertical-align: top;\n",
       "    }\n",
       "\n",
       "    .dataframe thead th {\n",
       "        text-align: right;\n",
       "    }\n",
       "</style>\n",
       "<table border=\"1\" class=\"dataframe\">\n",
       "  <thead>\n",
       "    <tr style=\"text-align: right;\">\n",
       "      <th></th>\n",
       "      <th>x1</th>\n",
       "      <th>x2</th>\n",
       "      <th>x3</th>\n",
       "      <th>x4</th>\n",
       "      <th>x5</th>\n",
       "      <th>x1</th>\n",
       "      <th>x2</th>\n",
       "      <th>x3</th>\n",
       "      <th>x4</th>\n",
       "      <th>x5</th>\n",
       "      <th>...</th>\n",
       "      <th>x2</th>\n",
       "      <th>x3</th>\n",
       "      <th>x4</th>\n",
       "      <th>x5</th>\n",
       "      <th>x1</th>\n",
       "      <th>x2</th>\n",
       "      <th>x3</th>\n",
       "      <th>x4</th>\n",
       "      <th>x5</th>\n",
       "      <th>const</th>\n",
       "    </tr>\n",
       "    <tr>\n",
       "      <th>Id</th>\n",
       "      <th></th>\n",
       "      <th></th>\n",
       "      <th></th>\n",
       "      <th></th>\n",
       "      <th></th>\n",
       "      <th></th>\n",
       "      <th></th>\n",
       "      <th></th>\n",
       "      <th></th>\n",
       "      <th></th>\n",
       "      <th></th>\n",
       "      <th></th>\n",
       "      <th></th>\n",
       "      <th></th>\n",
       "      <th></th>\n",
       "      <th></th>\n",
       "      <th></th>\n",
       "      <th></th>\n",
       "      <th></th>\n",
       "      <th></th>\n",
       "      <th></th>\n",
       "    </tr>\n",
       "  </thead>\n",
       "  <tbody>\n",
       "    <tr>\n",
       "      <th>0</th>\n",
       "      <td>0.02</td>\n",
       "      <td>0.05</td>\n",
       "      <td>-0.09</td>\n",
       "      <td>-0.43</td>\n",
       "      <td>-0.08</td>\n",
       "      <td>0.0004</td>\n",
       "      <td>0.0025</td>\n",
       "      <td>0.0081</td>\n",
       "      <td>0.1849</td>\n",
       "      <td>0.0064</td>\n",
       "      <td>...</td>\n",
       "      <td>1.051271</td>\n",
       "      <td>0.913931</td>\n",
       "      <td>0.650509</td>\n",
       "      <td>0.923116</td>\n",
       "      <td>0.999800</td>\n",
       "      <td>0.998750</td>\n",
       "      <td>0.995953</td>\n",
       "      <td>0.908966</td>\n",
       "      <td>0.996802</td>\n",
       "      <td>1</td>\n",
       "    </tr>\n",
       "    <tr>\n",
       "      <th>1</th>\n",
       "      <td>-0.13</td>\n",
       "      <td>0.11</td>\n",
       "      <td>-0.08</td>\n",
       "      <td>-0.29</td>\n",
       "      <td>-0.03</td>\n",
       "      <td>0.0169</td>\n",
       "      <td>0.0121</td>\n",
       "      <td>0.0064</td>\n",
       "      <td>0.0841</td>\n",
       "      <td>0.0009</td>\n",
       "      <td>...</td>\n",
       "      <td>1.116278</td>\n",
       "      <td>0.923116</td>\n",
       "      <td>0.748264</td>\n",
       "      <td>0.970446</td>\n",
       "      <td>0.991562</td>\n",
       "      <td>0.993956</td>\n",
       "      <td>0.996802</td>\n",
       "      <td>0.958244</td>\n",
       "      <td>0.999550</td>\n",
       "      <td>1</td>\n",
       "    </tr>\n",
       "    <tr>\n",
       "      <th>2</th>\n",
       "      <td>0.08</td>\n",
       "      <td>0.06</td>\n",
       "      <td>-0.07</td>\n",
       "      <td>-0.41</td>\n",
       "      <td>-0.03</td>\n",
       "      <td>0.0064</td>\n",
       "      <td>0.0036</td>\n",
       "      <td>0.0049</td>\n",
       "      <td>0.1681</td>\n",
       "      <td>0.0009</td>\n",
       "      <td>...</td>\n",
       "      <td>1.061837</td>\n",
       "      <td>0.932394</td>\n",
       "      <td>0.663650</td>\n",
       "      <td>0.970446</td>\n",
       "      <td>0.996802</td>\n",
       "      <td>0.998201</td>\n",
       "      <td>0.997551</td>\n",
       "      <td>0.917121</td>\n",
       "      <td>0.999550</td>\n",
       "      <td>1</td>\n",
       "    </tr>\n",
       "    <tr>\n",
       "      <th>3</th>\n",
       "      <td>0.02</td>\n",
       "      <td>-0.12</td>\n",
       "      <td>0.01</td>\n",
       "      <td>-0.43</td>\n",
       "      <td>-0.02</td>\n",
       "      <td>0.0004</td>\n",
       "      <td>0.0144</td>\n",
       "      <td>0.0001</td>\n",
       "      <td>0.1849</td>\n",
       "      <td>0.0004</td>\n",
       "      <td>...</td>\n",
       "      <td>0.886920</td>\n",
       "      <td>1.010050</td>\n",
       "      <td>0.650509</td>\n",
       "      <td>0.980199</td>\n",
       "      <td>0.999800</td>\n",
       "      <td>0.992809</td>\n",
       "      <td>0.999950</td>\n",
       "      <td>0.908966</td>\n",
       "      <td>0.999800</td>\n",
       "      <td>1</td>\n",
       "    </tr>\n",
       "    <tr>\n",
       "      <th>4</th>\n",
       "      <td>-0.14</td>\n",
       "      <td>-0.12</td>\n",
       "      <td>-0.08</td>\n",
       "      <td>-0.02</td>\n",
       "      <td>-0.08</td>\n",
       "      <td>0.0196</td>\n",
       "      <td>0.0144</td>\n",
       "      <td>0.0064</td>\n",
       "      <td>0.0004</td>\n",
       "      <td>0.0064</td>\n",
       "      <td>...</td>\n",
       "      <td>0.886920</td>\n",
       "      <td>0.923116</td>\n",
       "      <td>0.980199</td>\n",
       "      <td>0.923116</td>\n",
       "      <td>0.990216</td>\n",
       "      <td>0.992809</td>\n",
       "      <td>0.996802</td>\n",
       "      <td>0.999800</td>\n",
       "      <td>0.996802</td>\n",
       "      <td>1</td>\n",
       "    </tr>\n",
       "    <tr>\n",
       "      <th>...</th>\n",
       "      <td>...</td>\n",
       "      <td>...</td>\n",
       "      <td>...</td>\n",
       "      <td>...</td>\n",
       "      <td>...</td>\n",
       "      <td>...</td>\n",
       "      <td>...</td>\n",
       "      <td>...</td>\n",
       "      <td>...</td>\n",
       "      <td>...</td>\n",
       "      <td>...</td>\n",
       "      <td>...</td>\n",
       "      <td>...</td>\n",
       "      <td>...</td>\n",
       "      <td>...</td>\n",
       "      <td>...</td>\n",
       "      <td>...</td>\n",
       "      <td>...</td>\n",
       "      <td>...</td>\n",
       "      <td>...</td>\n",
       "      <td>...</td>\n",
       "    </tr>\n",
       "    <tr>\n",
       "      <th>695</th>\n",
       "      <td>0.31</td>\n",
       "      <td>-0.09</td>\n",
       "      <td>0.04</td>\n",
       "      <td>-0.09</td>\n",
       "      <td>0.03</td>\n",
       "      <td>0.0961</td>\n",
       "      <td>0.0081</td>\n",
       "      <td>0.0016</td>\n",
       "      <td>0.0081</td>\n",
       "      <td>0.0009</td>\n",
       "      <td>...</td>\n",
       "      <td>0.913931</td>\n",
       "      <td>1.040811</td>\n",
       "      <td>0.913931</td>\n",
       "      <td>1.030455</td>\n",
       "      <td>0.952334</td>\n",
       "      <td>0.995953</td>\n",
       "      <td>0.999200</td>\n",
       "      <td>0.995953</td>\n",
       "      <td>0.999550</td>\n",
       "      <td>1</td>\n",
       "    </tr>\n",
       "    <tr>\n",
       "      <th>696</th>\n",
       "      <td>-0.26</td>\n",
       "      <td>-0.01</td>\n",
       "      <td>0.02</td>\n",
       "      <td>-0.40</td>\n",
       "      <td>0.05</td>\n",
       "      <td>0.0676</td>\n",
       "      <td>0.0001</td>\n",
       "      <td>0.0004</td>\n",
       "      <td>0.1600</td>\n",
       "      <td>0.0025</td>\n",
       "      <td>...</td>\n",
       "      <td>0.990050</td>\n",
       "      <td>1.020201</td>\n",
       "      <td>0.670320</td>\n",
       "      <td>1.051271</td>\n",
       "      <td>0.966390</td>\n",
       "      <td>0.999950</td>\n",
       "      <td>0.999800</td>\n",
       "      <td>0.921061</td>\n",
       "      <td>0.998750</td>\n",
       "      <td>1</td>\n",
       "    </tr>\n",
       "    <tr>\n",
       "      <th>697</th>\n",
       "      <td>-0.27</td>\n",
       "      <td>-0.22</td>\n",
       "      <td>-0.01</td>\n",
       "      <td>-0.32</td>\n",
       "      <td>-0.05</td>\n",
       "      <td>0.0729</td>\n",
       "      <td>0.0484</td>\n",
       "      <td>0.0001</td>\n",
       "      <td>0.1024</td>\n",
       "      <td>0.0025</td>\n",
       "      <td>...</td>\n",
       "      <td>0.802519</td>\n",
       "      <td>0.990050</td>\n",
       "      <td>0.726149</td>\n",
       "      <td>0.951229</td>\n",
       "      <td>0.963771</td>\n",
       "      <td>0.975897</td>\n",
       "      <td>0.999950</td>\n",
       "      <td>0.949235</td>\n",
       "      <td>0.998750</td>\n",
       "      <td>1</td>\n",
       "    </tr>\n",
       "    <tr>\n",
       "      <th>698</th>\n",
       "      <td>0.19</td>\n",
       "      <td>0.11</td>\n",
       "      <td>-0.05</td>\n",
       "      <td>-0.27</td>\n",
       "      <td>-0.04</td>\n",
       "      <td>0.0361</td>\n",
       "      <td>0.0121</td>\n",
       "      <td>0.0025</td>\n",
       "      <td>0.0729</td>\n",
       "      <td>0.0016</td>\n",
       "      <td>...</td>\n",
       "      <td>1.116278</td>\n",
       "      <td>0.951229</td>\n",
       "      <td>0.763379</td>\n",
       "      <td>0.960789</td>\n",
       "      <td>0.982004</td>\n",
       "      <td>0.993956</td>\n",
       "      <td>0.998750</td>\n",
       "      <td>0.963771</td>\n",
       "      <td>0.999200</td>\n",
       "      <td>1</td>\n",
       "    </tr>\n",
       "    <tr>\n",
       "      <th>699</th>\n",
       "      <td>-0.09</td>\n",
       "      <td>-0.09</td>\n",
       "      <td>-0.06</td>\n",
       "      <td>-0.41</td>\n",
       "      <td>-0.06</td>\n",
       "      <td>0.0081</td>\n",
       "      <td>0.0081</td>\n",
       "      <td>0.0036</td>\n",
       "      <td>0.1681</td>\n",
       "      <td>0.0036</td>\n",
       "      <td>...</td>\n",
       "      <td>0.913931</td>\n",
       "      <td>0.941765</td>\n",
       "      <td>0.663650</td>\n",
       "      <td>0.941765</td>\n",
       "      <td>0.995953</td>\n",
       "      <td>0.995953</td>\n",
       "      <td>0.998201</td>\n",
       "      <td>0.917121</td>\n",
       "      <td>0.998201</td>\n",
       "      <td>1</td>\n",
       "    </tr>\n",
       "  </tbody>\n",
       "</table>\n",
       "<p>700 rows × 21 columns</p>\n",
       "</div>"
      ],
      "text/plain": [
       "       x1    x2    x3    x4    x5      x1      x2      x3      x4      x5  \\\n",
       "Id                                                                          \n",
       "0    0.02  0.05 -0.09 -0.43 -0.08  0.0004  0.0025  0.0081  0.1849  0.0064   \n",
       "1   -0.13  0.11 -0.08 -0.29 -0.03  0.0169  0.0121  0.0064  0.0841  0.0009   \n",
       "2    0.08  0.06 -0.07 -0.41 -0.03  0.0064  0.0036  0.0049  0.1681  0.0009   \n",
       "3    0.02 -0.12  0.01 -0.43 -0.02  0.0004  0.0144  0.0001  0.1849  0.0004   \n",
       "4   -0.14 -0.12 -0.08 -0.02 -0.08  0.0196  0.0144  0.0064  0.0004  0.0064   \n",
       "..    ...   ...   ...   ...   ...     ...     ...     ...     ...     ...   \n",
       "695  0.31 -0.09  0.04 -0.09  0.03  0.0961  0.0081  0.0016  0.0081  0.0009   \n",
       "696 -0.26 -0.01  0.02 -0.40  0.05  0.0676  0.0001  0.0004  0.1600  0.0025   \n",
       "697 -0.27 -0.22 -0.01 -0.32 -0.05  0.0729  0.0484  0.0001  0.1024  0.0025   \n",
       "698  0.19  0.11 -0.05 -0.27 -0.04  0.0361  0.0121  0.0025  0.0729  0.0016   \n",
       "699 -0.09 -0.09 -0.06 -0.41 -0.06  0.0081  0.0081  0.0036  0.1681  0.0036   \n",
       "\n",
       "     ...        x2        x3        x4        x5        x1        x2  \\\n",
       "Id   ...                                                               \n",
       "0    ...  1.051271  0.913931  0.650509  0.923116  0.999800  0.998750   \n",
       "1    ...  1.116278  0.923116  0.748264  0.970446  0.991562  0.993956   \n",
       "2    ...  1.061837  0.932394  0.663650  0.970446  0.996802  0.998201   \n",
       "3    ...  0.886920  1.010050  0.650509  0.980199  0.999800  0.992809   \n",
       "4    ...  0.886920  0.923116  0.980199  0.923116  0.990216  0.992809   \n",
       "..   ...       ...       ...       ...       ...       ...       ...   \n",
       "695  ...  0.913931  1.040811  0.913931  1.030455  0.952334  0.995953   \n",
       "696  ...  0.990050  1.020201  0.670320  1.051271  0.966390  0.999950   \n",
       "697  ...  0.802519  0.990050  0.726149  0.951229  0.963771  0.975897   \n",
       "698  ...  1.116278  0.951229  0.763379  0.960789  0.982004  0.993956   \n",
       "699  ...  0.913931  0.941765  0.663650  0.941765  0.995953  0.995953   \n",
       "\n",
       "           x3        x4        x5  const  \n",
       "Id                                        \n",
       "0    0.995953  0.908966  0.996802      1  \n",
       "1    0.996802  0.958244  0.999550      1  \n",
       "2    0.997551  0.917121  0.999550      1  \n",
       "3    0.999950  0.908966  0.999800      1  \n",
       "4    0.996802  0.999800  0.996802      1  \n",
       "..        ...       ...       ...    ...  \n",
       "695  0.999200  0.995953  0.999550      1  \n",
       "696  0.999800  0.921061  0.998750      1  \n",
       "697  0.999950  0.949235  0.998750      1  \n",
       "698  0.998750  0.963771  0.999200      1  \n",
       "699  0.998201  0.917121  0.998201      1  \n",
       "\n",
       "[700 rows x 21 columns]"
      ]
     },
     "execution_count": 5,
     "metadata": {},
     "output_type": "execute_result"
    }
   ],
   "source": [
    "# feature transformation\n",
    "squared = X_df**2\n",
    "exponential = np.exp(X_df)\n",
    "cosine = np.cos(X_df)\n",
    "\n",
    "# Concatenating transformed features\n",
    "X_df = pd.concat([X_df, squared, exponential, cosine], axis=1, sort=False)\n",
    "X_df['const'] = 1  # adding constant term\n",
    "X = np.array(X_df)\n",
    "X_df"
   ]
  },
  {
   "cell_type": "markdown",
   "metadata": {
    "id": "D_mAarVLquD-"
   },
   "source": [
    "# Creating k-fold split"
   ]
  },
  {
   "cell_type": "code",
   "execution_count": 6,
   "metadata": {
    "id": "Ip1-H7XTq3Ah"
   },
   "outputs": [],
   "source": [
    "from sklearn.model_selection import KFold\n",
    "\n",
    "# hyper parameter\n",
    "n_fold = 10\n",
    "\n",
    "kf = KFold(n_fold, shuffle=False)\n",
    "\n",
    "ind = np.arange(y.shape[0])\n",
    "\n",
    "ind_splits = list(kf.split(ind))"
   ]
  },
  {
   "cell_type": "code",
   "execution_count": 7,
   "metadata": {
    "colab": {
     "base_uri": "https://localhost:8080/",
     "height": 238
    },
    "executionInfo": {
     "elapsed": 1754,
     "status": "ok",
     "timestamp": 1589772071358,
     "user": {
      "displayName": "Sebastian B.",
      "photoUrl": "",
      "userId": "12274578952722913819"
     },
     "user_tz": 420
    },
    "id": "JXHNiwHlCZTd",
    "outputId": "09f3a8a0-aa0c-4085-9db1-39dff099da4a"
   },
   "outputs": [
    {
     "data": {
      "text/plain": [
       "array([[-0.08      , -0.14      , -0.04      , ...,  0.94923542,\n",
       "         1.        ,  1.        ],\n",
       "       [ 0.02      , -0.05      , -0.07      , ...,  0.95824388,\n",
       "         0.99995   ,  1.        ],\n",
       "       [ 0.04      , -0.06      , -0.12      , ...,  0.99875026,\n",
       "         0.99595273,  1.        ],\n",
       "       ...,\n",
       "       [-0.27      , -0.22      , -0.01      , ...,  0.94923542,\n",
       "         0.99875026,  1.        ],\n",
       "       [ 0.19      ,  0.11      , -0.05      , ...,  0.9637709 ,\n",
       "         0.99920011,  1.        ],\n",
       "       [-0.09      , -0.09      , -0.06      , ...,  0.91712082,\n",
       "         0.99820054,  1.        ]])"
      ]
     },
     "execution_count": 7,
     "metadata": {},
     "output_type": "execute_result"
    }
   ],
   "source": [
    "X[ind_splits[0][0],:]"
   ]
  },
  {
   "cell_type": "markdown",
   "metadata": {
    "id": "0IDhYJZEqnuP"
   },
   "source": [
    "# Train ridge regression"
   ]
  },
  {
   "cell_type": "code",
   "execution_count": 8,
   "metadata": {
    "id": "vo8UCcugop0x"
   },
   "outputs": [
    {
     "name": "stdout",
     "output_type": "stream",
     "text": [
      "Training on 0 fold and lambda 0.01\n",
      "Training on 1 fold and lambda 0.01\n",
      "Training on 2 fold and lambda 0.01\n",
      "Training on 3 fold and lambda 0.01\n",
      "Training on 4 fold and lambda 0.01\n",
      "Training on 5 fold and lambda 0.01\n",
      "Training on 6 fold and lambda 0.01\n",
      "Training on 7 fold and lambda 0.01\n",
      "Training on 8 fold and lambda 0.01\n",
      "Training on 9 fold and lambda 0.01\n",
      "Training on 0 fold and lambda 0.1\n",
      "Training on 1 fold and lambda 0.1\n",
      "Training on 2 fold and lambda 0.1\n",
      "Training on 3 fold and lambda 0.1\n",
      "Training on 4 fold and lambda 0.1\n",
      "Training on 5 fold and lambda 0.1\n",
      "Training on 6 fold and lambda 0.1\n",
      "Training on 7 fold and lambda 0.1\n",
      "Training on 8 fold and lambda 0.1\n",
      "Training on 9 fold and lambda 0.1\n",
      "Training on 0 fold and lambda 1\n",
      "Training on 1 fold and lambda 1\n",
      "Training on 2 fold and lambda 1\n",
      "Training on 3 fold and lambda 1\n",
      "Training on 4 fold and lambda 1\n",
      "Training on 5 fold and lambda 1\n",
      "Training on 6 fold and lambda 1\n",
      "Training on 7 fold and lambda 1\n",
      "Training on 8 fold and lambda 1\n",
      "Training on 9 fold and lambda 1\n",
      "Training on 0 fold and lambda 10\n",
      "Training on 1 fold and lambda 10\n",
      "Training on 2 fold and lambda 10\n",
      "Training on 3 fold and lambda 10\n",
      "Training on 4 fold and lambda 10\n",
      "Training on 5 fold and lambda 10\n",
      "Training on 6 fold and lambda 10\n",
      "Training on 7 fold and lambda 10\n",
      "Training on 8 fold and lambda 10\n",
      "Training on 9 fold and lambda 10\n",
      "Training on 0 fold and lambda 100\n",
      "Training on 1 fold and lambda 100\n",
      "Training on 2 fold and lambda 100\n",
      "Training on 3 fold and lambda 100\n",
      "Training on 4 fold and lambda 100\n",
      "Training on 5 fold and lambda 100\n",
      "Training on 6 fold and lambda 100\n",
      "Training on 7 fold and lambda 100\n",
      "Training on 8 fold and lambda 100\n",
      "Training on 9 fold and lambda 100\n",
      "Training on 0 fold and lambda 10000.0\n",
      "Training on 1 fold and lambda 10000.0\n",
      "Training on 2 fold and lambda 10000.0\n",
      "Training on 3 fold and lambda 10000.0\n",
      "Training on 4 fold and lambda 10000.0\n",
      "Training on 5 fold and lambda 10000.0\n",
      "Training on 6 fold and lambda 10000.0\n",
      "Training on 7 fold and lambda 10000.0\n",
      "Training on 8 fold and lambda 10000.0\n",
      "Training on 9 fold and lambda 10000.0\n",
      "Training on 0 fold and lambda 100000.0\n",
      "Training on 1 fold and lambda 100000.0\n",
      "Training on 2 fold and lambda 100000.0\n",
      "Training on 3 fold and lambda 100000.0\n",
      "Training on 4 fold and lambda 100000.0\n",
      "Training on 5 fold and lambda 100000.0\n",
      "Training on 6 fold and lambda 100000.0\n",
      "Training on 7 fold and lambda 100000.0\n",
      "Training on 8 fold and lambda 100000.0\n",
      "Training on 9 fold and lambda 100000.0\n",
      "The mean RMS errors are: [1.9667943759414122, 1.962181340835074, 1.956636398955061, 1.954844374064027, 1.958756684332355, 1.960946040410765, 1.960976158716291]\n"
     ]
    }
   ],
   "source": [
    "from sklearn.linear_model import Ridge\n",
    "from sklearn.metrics import mean_squared_error\n",
    "\n",
    "lam = [0.01, 0.1, 1, 10, 100, 1e4,1e5]\n",
    "\n",
    "errors = []\n",
    "models = []\n",
    "\n",
    "for alph in lam:\n",
    "\n",
    "  clf = Ridge(alpha=alph,solver='cholesky')\n",
    "\n",
    "  errorVec = []\n",
    "  tempModel = []\n",
    "  for i in range(len(ind_splits)):\n",
    "    print(f'Training on {i} fold and lambda {alph}')\n",
    "    model = clf.fit(X[ind_splits[i][0],:], y[ind_splits[i][0]])\n",
    "    y_pred = model.predict(X[ind_splits[i][1],:])\n",
    "\n",
    "    tempModel.append(model)\n",
    "    errorVec.append(np.sqrt(mean_squared_error(y_pred, y[ind_splits[i][1]])))\n",
    "  errors.append(np.mean(errorVec))\n",
    "  models.append(tempModel)\n",
    "\n",
    "print(f'The mean RMS errors are: {errors}')"
   ]
  },
  {
   "cell_type": "markdown",
   "metadata": {
    "id": "SZU9P5RVyube"
   },
   "source": [
    "# Exporting to csv"
   ]
  },
  {
   "cell_type": "code",
   "execution_count": 9,
   "metadata": {
    "id": "Cr2LaYOCuJYo"
   },
   "outputs": [],
   "source": [
    "weights = pd.DataFrame(models[3][0].coef_)  #choosing model with lowest RMSE\n",
    "# create timestamp\n",
    "import time\n",
    "tstamp = round(time.time())\n",
    "\n",
    "filePath = f\".\\\\results\\\\weights_{tstamp}.csv\"\n",
    "weights.to_csv(filePath, index=False, float_format='%.3f',header=False)"
   ]
  },
  {
   "cell_type": "code",
   "execution_count": 10,
   "metadata": {
    "colab": {
     "base_uri": "https://localhost:8080/",
     "height": 102
    },
    "executionInfo": {
     "elapsed": 1791,
     "status": "ok",
     "timestamp": 1589772297196,
     "user": {
      "displayName": "Sebastian B.",
      "photoUrl": "",
      "userId": "12274578952722913819"
     },
     "user_tz": 420
    },
    "id": "DfcGyzL9ykhn",
    "outputId": "454e7546-5119-4fdf-8704-828b28024079"
   },
   "outputs": [
    {
     "data": {
      "text/plain": [
       "array([-0.13349034, -0.55583969, -0.59356823, -0.11925668,  0.01354123,\n",
       "       -0.13819497,  0.07661524,  0.10816166,  0.00940635,  0.04382372,\n",
       "       -0.20557915, -0.52038973, -0.54450513, -0.12069086,  0.0304691 ,\n",
       "        0.06846467, -0.03809828, -0.05374952, -0.00492623, -0.02103386,\n",
       "        0.        ])"
      ]
     },
     "execution_count": 10,
     "metadata": {},
     "output_type": "execute_result"
    }
   ],
   "source": [
    "models[3][0].coef_"
   ]
  }
 ],
 "metadata": {
  "colab": {
   "authorship_tag": "ABX9TyOADwvqfLk6QNUNFADm98Lt",
   "collapsed_sections": [],
   "name": "Project_1b.ipynb",
   "provenance": [],
   "toc_visible": true
  },
  "kernelspec": {
   "display_name": "Python 3",
   "language": "python",
   "name": "python3"
  },
  "language_info": {
   "codemirror_mode": {
    "name": "ipython",
    "version": 3
   },
   "file_extension": ".py",
   "mimetype": "text/x-python",
   "name": "python",
   "nbconvert_exporter": "python",
   "pygments_lexer": "ipython3",
   "version": "3.8.3"
  }
 },
 "nbformat": 4,
 "nbformat_minor": 1
}
